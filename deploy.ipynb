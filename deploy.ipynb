{
 "cells": [
  {
   "cell_type": "code",
   "execution_count": 17,
   "metadata": {},
   "outputs": [],
   "source": [
    "from scripts.dataloader import create_data_loader\n",
    "from scripts.vidoe2frameW import execute_v2f\n",
    "import torch\n",
    "from models.STM.model import CNN_LSTM, CNN\n"
   ]
  },
  {
   "cell_type": "code",
   "execution_count": 18,
   "metadata": {},
   "outputs": [],
   "source": [
    "data_dir = 'Breakfast Action Recognition/valid'\n",
    "result_dir = './data/valid'\n",
    "model_path = 'models/STM/STM_Model_32.pth'\n",
    "num_frames = 100\n",
    "\n"
   ]
  },
  {
   "cell_type": "code",
   "execution_count": 19,
   "metadata": {},
   "outputs": [
    {
     "name": "stdout",
     "output_type": "stream",
     "text": [
      "Folder ./data/valid already exists, deleting folder\n",
      "Total frames in video: 739\n",
      "Processed the video P48_cereals.avi and wrote individual frames to folder Breakfast Action Recognition/valid\\P48P48_cereals\n",
      "Total frames in video: 3092\n",
      "Processed the video P48_friedegg.avi and wrote individual frames to folder Breakfast Action Recognition/valid\\P48P48_friedegg\n",
      "Total frames in video: 1251\n",
      "Processed the video P48_juice.avi and wrote individual frames to folder Breakfast Action Recognition/valid\\P48P48_juice\n",
      "Total frames in video: 795\n",
      "Processed the video P48_milk.avi and wrote individual frames to folder Breakfast Action Recognition/valid\\P48P48_milk\n",
      "Total frames in video: 4038\n",
      "Processed the video P48_pancake.avi and wrote individual frames to folder Breakfast Action Recognition/valid\\P48P48_pancake\n",
      "Total frames in video: 5446\n",
      "Processed the video P48_salat.avi and wrote individual frames to folder Breakfast Action Recognition/valid\\P48P48_salat\n",
      "Total frames in video: 1862\n",
      "Processed the video P48_sandwich.avi and wrote individual frames to folder Breakfast Action Recognition/valid\\P48P48_sandwich\n",
      "Total frames in video: 3464\n",
      "Processed the video P48_scrambledegg.avi and wrote individual frames to folder Breakfast Action Recognition/valid\\P48P48_scrambledegg\n",
      "Total frames in video: 569\n",
      "Processed the video P48_tea.avi and wrote individual frames to folder Breakfast Action Recognition/valid\\P48P48_tea\n",
      "Total frames in video: 718\n",
      "Processed the video P49_cereals.avi and wrote individual frames to folder Breakfast Action Recognition/valid\\P49P49_cereals\n",
      "Total frames in video: 301\n",
      "Processed the video P49_coffee.avi and wrote individual frames to folder Breakfast Action Recognition/valid\\P49P49_coffee\n",
      "Total frames in video: 5176\n",
      "Processed the video P49_friedegg.avi and wrote individual frames to folder Breakfast Action Recognition/valid\\P49P49_friedegg\n",
      "Total frames in video: 1389\n",
      "Processed the video P49_juice.avi and wrote individual frames to folder Breakfast Action Recognition/valid\\P49P49_juice\n",
      "Total frames in video: 713\n",
      "Processed the video P49_milk.avi and wrote individual frames to folder Breakfast Action Recognition/valid\\P49P49_milk\n",
      "Total frames in video: 6359\n",
      "Processed the video P49_pancake.avi and wrote individual frames to folder Breakfast Action Recognition/valid\\P49P49_pancake\n",
      "Total frames in video: 4231\n",
      "Processed the video P49_salat.avi and wrote individual frames to folder Breakfast Action Recognition/valid\\P49P49_salat\n",
      "Total frames in video: 1848\n",
      "Processed the video P49_sandwich.avi and wrote individual frames to folder Breakfast Action Recognition/valid\\P49P49_sandwich\n",
      "Total frames in video: 3451\n",
      "Processed the video P49_scrambledegg.avi and wrote individual frames to folder Breakfast Action Recognition/valid\\P49P49_scrambledegg\n",
      "Total frames in video: 361\n",
      "Processed the video P49_tea.avi and wrote individual frames to folder Breakfast Action Recognition/valid\\P49P49_tea\n",
      "Total frames in video: 459\n",
      "Processed the video P50_cereals.avi and wrote individual frames to folder Breakfast Action Recognition/valid\\P50P50_cereals\n",
      "Total frames in video: 692\n",
      "Processed the video P50_coffee.avi and wrote individual frames to folder Breakfast Action Recognition/valid\\P50P50_coffee\n",
      "Total frames in video: 1599\n",
      "Processed the video P50_friedegg.avi and wrote individual frames to folder Breakfast Action Recognition/valid\\P50P50_friedegg\n",
      "Total frames in video: 1896\n",
      "Processed the video P50_juice.avi and wrote individual frames to folder Breakfast Action Recognition/valid\\P50P50_juice\n",
      "Total frames in video: 793\n",
      "Processed the video P50_milk.avi and wrote individual frames to folder Breakfast Action Recognition/valid\\P50P50_milk\n",
      "Total frames in video: 4918\n",
      "Processed the video P50_pancake.avi and wrote individual frames to folder Breakfast Action Recognition/valid\\P50P50_pancake\n",
      "Total frames in video: 3490\n",
      "Processed the video P50_salat.avi and wrote individual frames to folder Breakfast Action Recognition/valid\\P50P50_salat\n",
      "Total frames in video: 1157\n",
      "Processed the video P50_sandwich.avi and wrote individual frames to folder Breakfast Action Recognition/valid\\P50P50_sandwich\n",
      "Total frames in video: 1597\n",
      "Processed the video P50_scrambledegg.avi and wrote individual frames to folder Breakfast Action Recognition/valid\\P50P50_scrambledegg\n",
      "Total frames in video: 1034\n",
      "Processed the video P50_tea.avi and wrote individual frames to folder Breakfast Action Recognition/valid\\P50P50_tea\n",
      "Total frames in video: 710\n",
      "Processed the video P51_cereals.avi and wrote individual frames to folder Breakfast Action Recognition/valid\\P51P51_cereals\n",
      "Total frames in video: 2913\n",
      "Processed the video P51_friedegg.avi and wrote individual frames to folder Breakfast Action Recognition/valid\\P51P51_friedegg\n",
      "Total frames in video: 1492\n",
      "Processed the video P51_juice.avi and wrote individual frames to folder Breakfast Action Recognition/valid\\P51P51_juice\n",
      "Total frames in video: 1311\n",
      "Processed the video P51_milk.avi and wrote individual frames to folder Breakfast Action Recognition/valid\\P51P51_milk\n",
      "Total frames in video: 5794\n",
      "Processed the video P51_pancake.avi and wrote individual frames to folder Breakfast Action Recognition/valid\\P51P51_pancake\n",
      "Total frames in video: 3433\n",
      "Processed the video P51_salat.avi and wrote individual frames to folder Breakfast Action Recognition/valid\\P51P51_salat\n",
      "Total frames in video: 930\n",
      "Processed the video P51_sandwich.avi and wrote individual frames to folder Breakfast Action Recognition/valid\\P51P51_sandwich\n",
      "Total frames in video: 3405\n",
      "Processed the video P51_scrambledegg.avi and wrote individual frames to folder Breakfast Action Recognition/valid\\P51P51_scrambledegg\n",
      "Total frames in video: 732\n",
      "Processed the video P51_tea.avi and wrote individual frames to folder Breakfast Action Recognition/valid\\P51P51_tea\n"
     ]
    }
   ],
   "source": [
    "execute_v2f(data_dir, result_dir, num_frames)"
   ]
  },
  {
   "cell_type": "code",
   "execution_count": 20,
   "metadata": {},
   "outputs": [],
   "source": [
    "valid_data_loader = create_data_loader(result_dir, batch_size=10, shuffle=False)\n"
   ]
  },
  {
   "cell_type": "code",
   "execution_count": 21,
   "metadata": {},
   "outputs": [],
   "source": [
    "sequence_length = 5\n",
    "num_classes = 10  \n",
    "\n",
    "cnn = CNN()\n",
    "model = CNN_LSTM(cnn, num_classes, sequence_length)"
   ]
  },
  {
   "cell_type": "code",
   "execution_count": 22,
   "metadata": {},
   "outputs": [
    {
     "data": {
      "text/plain": [
       "<All keys matched successfully>"
      ]
     },
     "execution_count": 22,
     "metadata": {},
     "output_type": "execute_result"
    }
   ],
   "source": [
    "model.load_state_dict(torch.load(model_path))"
   ]
  },
  {
   "cell_type": "markdown",
   "metadata": {},
   "source": [
    "## Predicting Results"
   ]
  },
  {
   "cell_type": "code",
   "execution_count": 23,
   "metadata": {},
   "outputs": [],
   "source": [
    "# import torch\n",
    "# from sklearn.metrics import confusion_matrix\n",
    "# import numpy as np\n",
    "# import seaborn as sns\n",
    "# import matplotlib.pyplot as plt\n",
    "\n",
    "# model.eval()\n",
    "\n",
    "# all_labels = []\n",
    "# all_predictions = []\n",
    "\n",
    "# with torch.no_grad():\n",
    "#     for i, (inputs, labels) in enumerate(valid_data_loader):\n",
    "#         outputs = model(inputs)\n",
    "#         _, predicted = torch.max(outputs.data, 1)\n",
    "        \n",
    "#         all_labels.extend(labels.cpu().numpy())\n",
    "#         all_predictions.extend(predicted.cpu().numpy())\n",
    "\n",
    "# all_labels = np.array(all_labels)\n",
    "# all_predictions = np.array(all_predictions)\n",
    "\n",
    "# conf_matrix = confusion_matrix(all_labels, all_predictions)\n",
    "\n",
    "# print(\"Confusion Matrix:\")\n",
    "# print(conf_matrix)\n",
    "\n",
    "# plt.figure(figsize=(10, 8))\n",
    "# sns.heatmap(conf_matrix, annot=True, fmt='d', cmap='Blues', xticklabels=range(10), yticklabels=range(10))\n",
    "# plt.xlabel('Predicted Labels')\n",
    "# plt.ylabel('True Labels')\n",
    "# plt.title('Confusion Matrix')\n",
    "# plt.show()\n"
   ]
  },
  {
   "cell_type": "code",
   "execution_count": 24,
   "metadata": {},
   "outputs": [
    {
     "name": "stdout",
     "output_type": "stream",
     "text": [
      "Accuracy of the network on the test images: 32 %\n"
     ]
    }
   ],
   "source": [
    "model.eval()\n",
    "correct = 0\n",
    "total = 0\n",
    "predicted_list = []\n",
    "with torch.no_grad():\n",
    "    for i, (inputs, labels) in enumerate(valid_data_loader):\n",
    "        outputs = model(inputs)\n",
    "        _, predicted = torch.max(outputs.data, 1)\n",
    "        predicted_list.append(predicted)\n",
    "        total += labels.size(0)\n",
    "        correct += (predicted == labels).sum().item()\n",
    "\n",
    "print('Accuracy of the network on the test images: %d %%' % (100 * correct / total))\n"
   ]
  },
  {
   "cell_type": "code",
   "execution_count": null,
   "metadata": {},
   "outputs": [],
   "source": []
  }
 ],
 "metadata": {
  "kernelspec": {
   "display_name": "Python 3",
   "language": "python",
   "name": "python3"
  },
  "language_info": {
   "codemirror_mode": {
    "name": "ipython",
    "version": 3
   },
   "file_extension": ".py",
   "mimetype": "text/x-python",
   "name": "python",
   "nbconvert_exporter": "python",
   "pygments_lexer": "ipython3",
   "version": "3.10.2"
  }
 },
 "nbformat": 4,
 "nbformat_minor": 2
}
