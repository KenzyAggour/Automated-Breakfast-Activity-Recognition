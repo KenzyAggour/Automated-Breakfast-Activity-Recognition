{
 "cells": [
  {
   "cell_type": "code",
   "execution_count": 7,
   "metadata": {},
   "outputs": [],
   "source": [
    "from scripts.vidoe2frameW import execute_v2f\n",
    "from scripts.dataloader import create_data_loader"
   ]
  },
  {
   "cell_type": "code",
   "execution_count": 8,
   "metadata": {},
   "outputs": [],
   "source": [
    "data_dir = 'Breakfast Action Recognition/valid'\n",
    "result_dir = 'data/valid'\n"
   ]
  },
  {
   "cell_type": "code",
   "execution_count": 9,
   "metadata": {},
   "outputs": [
    {
     "name": "stdout",
     "output_type": "stream",
     "text": [
      "Folder data/valid already exists\n",
      "Processed the video P48_cereals.avi and wrote individual frames to folder Breakfast Action Recognition/valid\\P48P48_cereals\n",
      "Processed the video P48_friedegg.avi and wrote individual frames to folder Breakfast Action Recognition/valid\\P48P48_friedegg\n",
      "Processed the video P48_juice.avi and wrote individual frames to folder Breakfast Action Recognition/valid\\P48P48_juice\n",
      "Processed the video P48_milk.avi and wrote individual frames to folder Breakfast Action Recognition/valid\\P48P48_milk\n",
      "Processed the video P48_pancake.avi and wrote individual frames to folder Breakfast Action Recognition/valid\\P48P48_pancake\n",
      "Processed the video P48_salat.avi and wrote individual frames to folder Breakfast Action Recognition/valid\\P48P48_salat\n",
      "Processed the video P48_sandwich.avi and wrote individual frames to folder Breakfast Action Recognition/valid\\P48P48_sandwich\n",
      "Processed the video P48_scrambledegg.avi and wrote individual frames to folder Breakfast Action Recognition/valid\\P48P48_scrambledegg\n",
      "Processed the video P48_tea.avi and wrote individual frames to folder Breakfast Action Recognition/valid\\P48P48_tea\n",
      "Processed the video P49_cereals.avi and wrote individual frames to folder Breakfast Action Recognition/valid\\P49P49_cereals\n",
      "Processed the video P49_coffee.avi and wrote individual frames to folder Breakfast Action Recognition/valid\\P49P49_coffee\n",
      "Processed the video P49_friedegg.avi and wrote individual frames to folder Breakfast Action Recognition/valid\\P49P49_friedegg\n",
      "Processed the video P49_juice.avi and wrote individual frames to folder Breakfast Action Recognition/valid\\P49P49_juice\n",
      "Processed the video P49_milk.avi and wrote individual frames to folder Breakfast Action Recognition/valid\\P49P49_milk\n",
      "Processed the video P49_pancake.avi and wrote individual frames to folder Breakfast Action Recognition/valid\\P49P49_pancake\n",
      "Processed the video P49_salat.avi and wrote individual frames to folder Breakfast Action Recognition/valid\\P49P49_salat\n",
      "Processed the video P49_sandwich.avi and wrote individual frames to folder Breakfast Action Recognition/valid\\P49P49_sandwich\n",
      "Processed the video P49_scrambledegg.avi and wrote individual frames to folder Breakfast Action Recognition/valid\\P49P49_scrambledegg\n",
      "Processed the video P49_tea.avi and wrote individual frames to folder Breakfast Action Recognition/valid\\P49P49_tea\n",
      "Processed the video P50_cereals.avi and wrote individual frames to folder Breakfast Action Recognition/valid\\P50P50_cereals\n",
      "Processed the video P50_coffee.avi and wrote individual frames to folder Breakfast Action Recognition/valid\\P50P50_coffee\n",
      "Processed the video P50_friedegg.avi and wrote individual frames to folder Breakfast Action Recognition/valid\\P50P50_friedegg\n",
      "Processed the video P50_juice.avi and wrote individual frames to folder Breakfast Action Recognition/valid\\P50P50_juice\n",
      "Processed the video P50_milk.avi and wrote individual frames to folder Breakfast Action Recognition/valid\\P50P50_milk\n",
      "Processed the video P50_pancake.avi and wrote individual frames to folder Breakfast Action Recognition/valid\\P50P50_pancake\n",
      "Processed the video P50_salat.avi and wrote individual frames to folder Breakfast Action Recognition/valid\\P50P50_salat\n",
      "Processed the video P50_sandwich.avi and wrote individual frames to folder Breakfast Action Recognition/valid\\P50P50_sandwich\n",
      "Processed the video P50_scrambledegg.avi and wrote individual frames to folder Breakfast Action Recognition/valid\\P50P50_scrambledegg\n",
      "Processed the video P50_tea.avi and wrote individual frames to folder Breakfast Action Recognition/valid\\P50P50_tea\n",
      "Processed the video P51_cereals.avi and wrote individual frames to folder Breakfast Action Recognition/valid\\P51P51_cereals\n",
      "Processed the video P51_friedegg.avi and wrote individual frames to folder Breakfast Action Recognition/valid\\P51P51_friedegg\n",
      "Processed the video P51_juice.avi and wrote individual frames to folder Breakfast Action Recognition/valid\\P51P51_juice\n",
      "Processed the video P51_milk.avi and wrote individual frames to folder Breakfast Action Recognition/valid\\P51P51_milk\n",
      "Processed the video P51_pancake.avi and wrote individual frames to folder Breakfast Action Recognition/valid\\P51P51_pancake\n",
      "Processed the video P51_salat.avi and wrote individual frames to folder Breakfast Action Recognition/valid\\P51P51_salat\n",
      "Processed the video P51_sandwich.avi and wrote individual frames to folder Breakfast Action Recognition/valid\\P51P51_sandwich\n",
      "Processed the video P51_scrambledegg.avi and wrote individual frames to folder Breakfast Action Recognition/valid\\P51P51_scrambledegg\n",
      "Processed the video P51_tea.avi and wrote individual frames to folder Breakfast Action Recognition/valid\\P51P51_tea\n"
     ]
    }
   ],
   "source": [
    "execute_v2f(data_dir, result_dir)"
   ]
  },
  {
   "cell_type": "code",
   "execution_count": null,
   "metadata": {},
   "outputs": [],
   "source": [
    "valid_data_loader = create_data_loader('./data/valid', batch_size=10, shuffle=False)\n"
   ]
  }
 ],
 "metadata": {
  "kernelspec": {
   "display_name": "Python 3",
   "language": "python",
   "name": "python3"
  },
  "language_info": {
   "codemirror_mode": {
    "name": "ipython",
    "version": 3
   },
   "file_extension": ".py",
   "mimetype": "text/x-python",
   "name": "python",
   "nbconvert_exporter": "python",
   "pygments_lexer": "ipython3",
   "version": "3.10.2"
  }
 },
 "nbformat": 4,
 "nbformat_minor": 2
}
